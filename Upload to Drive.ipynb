{
 "cells": [
  {
   "cell_type": "code",
   "execution_count": null,
   "metadata": {},
   "outputs": [],
   "source": [
    "import pandas as pd\n",
    "from pydrive.auth import GoogleAuth\n",
    "from pydrive.drive import GoogleDrive\n",
    "import os"
   ]
  },
  {
   "cell_type": "code",
   "execution_count": null,
   "metadata": {},
   "outputs": [],
   "source": [
    "drive_instance = GoogleAuth()\n",
    "\n",
    "gauth = drive_instance.LocalWebserverAuth()\n",
    "\n",
    "drive = GoogleDrive(gauth)"
   ]
  },
  {
   "cell_type": "code",
   "execution_count": null,
   "metadata": {},
   "outputs": [],
   "source": [
    "def get_files_to_upload(time_avg):\n",
    "    \n",
    "    results_directory = os.path.dirname(os.getcwd())\n",
    "    path_to_check = os.path.join(results_directory, 'results', 'concatenated_data')\n",
    "    \n",
    "    files_at_path = os.listdir(path_to_check)\n",
    "\n",
    "    time_avg_file = [f for f in files_at_path if '_{}'.format(time_avg) in f]\n",
    "    \n",
    "    return(time_avg_file)"
   ]
  },
  {
   "cell_type": "code",
   "execution_count": null,
   "metadata": {},
   "outputs": [],
   "source": [
    "def upload_to_drive(desired_file_path, desired_file_name):\n",
    "    \n",
    "    drive_file_instance = drive.CreateFile({'title': desired_file_name, 'parents':[{'id':'1dpg1tBXnpdioOMC9zvNBiDLLRhyS3jz1'}]})\n",
    "    drive_file_instance.SetContentFile(desired_file_path)\n",
    "    drive_file_instance.Upload()"
   ]
  },
  {
   "cell_type": "code",
   "execution_count": null,
   "metadata": {
    "scrolled": true
   },
   "outputs": [],
   "source": [
    "for averaging_time in ['60', '10', '5', 'minute']:\n",
    "    \n",
    "    file_location = os.path.join(os.path.dirname(os.getcwd()), 'results', 'concatenated_data')\n",
    "    file_to_upload = get_files_to_upload(averaging_time)[0]\n",
    "    file_full_path = os.path.join(file_location, file_to_upload)\n",
    "\n",
    "    file_name = file_to_upload[0:-4]\n",
    "    print('Uploading', file_name, 'from', file_full_path)\n",
    "    \n",
    "    upload_to_drive(file_full_path, file_name)\n",
    "    \n",
    "    print('Successfully uploaded. Deleting file from local disk.')\n",
    "    os.remove(file_full_path)"
   ]
  },
  {
   "cell_type": "code",
   "execution_count": null,
   "metadata": {},
   "outputs": [],
   "source": []
  }
 ],
 "metadata": {
  "kernelspec": {
   "display_name": "Python 3",
   "language": "python",
   "name": "python3"
  },
  "language_info": {
   "codemirror_mode": {
    "name": "ipython",
    "version": 3
   },
   "file_extension": ".py",
   "mimetype": "text/x-python",
   "name": "python",
   "nbconvert_exporter": "python",
   "pygments_lexer": "ipython3",
   "version": "3.8.3"
  }
 },
 "nbformat": 4,
 "nbformat_minor": 2
}
